{
 "cells": [
  {
   "cell_type": "markdown",
   "metadata": {},
   "source": [
    "#### A word on design choices.\n",
    "Since I am new to using LangChain, I tried to stick to all pre-processing and in-processing utilities coming from the LangChain ecosystem.    \n",
    "Some design choices may have better alternatives, but this quick prototype is meant to be a proof of concept, with the goal of learning more about LangChain's capabilities."
   ]
  },
  {
   "cell_type": "code",
   "execution_count": 8,
   "metadata": {},
   "outputs": [],
   "source": [
    "from src import initialize\n",
    "from src import ingest\n",
    "from src import embed\n",
    "\n",
    "# If PDF has more than TOKEN_THRESH tokens, we only work with \n",
    "# the first TEXT_THRESH PyPDFLoader Document chunks.\n",
    "TOKEN_THRESH = 1000 \n",
    "TEXT_THRESH = 100\n",
    "\n",
    "PDF_PATH = \"../data/pdf/NSE-annual-report-2022.pdf\""
   ]
  },
  {
   "cell_type": "markdown",
   "metadata": {},
   "source": [
    "#### Get API keys."
   ]
  },
  {
   "cell_type": "code",
   "execution_count": 2,
   "metadata": {},
   "outputs": [],
   "source": [
    "OPENAI_API_KEY = initialize.init()"
   ]
  },
  {
   "cell_type": "markdown",
   "metadata": {},
   "source": [
    "#### Extract data from PDF.\n",
    "Analyze PDF length in terms of number of tokens.    \n",
    "Shorten if the number of tokens is too high."
   ]
  },
  {
   "cell_type": "code",
   "execution_count": 3,
   "metadata": {},
   "outputs": [
    {
     "name": "stdout",
     "output_type": "stream",
     "text": [
      "Too many tokens in raw text. Shortening...\n"
     ]
    }
   ],
   "source": [
    "texts = ingest.ingest(PDF_PATH, TOKEN_THRESH, TEXT_THRESH)"
   ]
  },
  {
   "cell_type": "markdown",
   "metadata": {},
   "source": [
    "#### Initialize a VectorDB instance and embed texts into it."
   ]
  },
  {
   "cell_type": "code",
   "execution_count": 9,
   "metadata": {},
   "outputs": [],
   "source": [
    "vectordb = embed.embed(texts, OPENAI_API_KEY)"
   ]
  },
  {
   "cell_type": "markdown",
   "metadata": {},
   "source": [
    "#### Initialize the doc-talk bot.\n",
    "`TODOS`:\n",
    "1. Consider [Conversational Retrieval QA chains](https://python.langchain.com/docs/modules/chains/popular/chat_vector_db) \n",
    "2. Consider [Map Reduce document chain type](https://python.langchain.com/docs/modules/chains/document/map_reduce) instead of ''stuff''."
   ]
  },
  {
   "cell_type": "code",
   "execution_count": 6,
   "metadata": {},
   "outputs": [],
   "source": [
    "bot = init_bot(vectordb, OPENAI_API_KEY)"
   ]
  },
  {
   "cell_type": "markdown",
   "metadata": {},
   "source": [
    "#### Ask questions!"
   ]
  },
  {
   "cell_type": "code",
   "execution_count": 7,
   "metadata": {},
   "outputs": [
    {
     "data": {
      "text/plain": [
       "' NSE maintained its leadership position in domestic markets with a 93% market share in the Capital Market segment and near-100% share in the Equity Derivatives segment. Market share in the Currency Options segment moved up nearly eight points higher to 95%, while that in the Currency Futures segment remained robust at 70% in FY 2021-22. The Indian benchmark NIFTY 50 Index rose 19% in FY 2021-22. Passive investment avenues have also gained traction.'"
      ]
     },
     "execution_count": 7,
     "metadata": {},
     "output_type": "execute_result"
    }
   ],
   "source": [
    "query = \"How did the year 2022 go for NSE?\"\n",
    "qa.run(query)"
   ]
  },
  {
   "cell_type": "code",
   "execution_count": null,
   "metadata": {},
   "outputs": [],
   "source": [
    "query = \"Compared to 2021, how did the year 2022 go for NSE?\"\n",
    "qa.run(query)"
   ]
  },
  {
   "cell_type": "code",
   "execution_count": null,
   "metadata": {},
   "outputs": [],
   "source": [
    "query = \"What financial instrument should I invest in if I'm a risk taker?\"\n",
    "qa.run(query)"
   ]
  }
 ],
 "metadata": {
  "kernelspec": {
   "display_name": "langchain",
   "language": "python",
   "name": "python3"
  },
  "language_info": {
   "codemirror_mode": {
    "name": "ipython",
    "version": 3
   },
   "file_extension": ".py",
   "mimetype": "text/x-python",
   "name": "python",
   "nbconvert_exporter": "python",
   "pygments_lexer": "ipython3",
   "version": "3.11.4"
  },
  "orig_nbformat": 4
 },
 "nbformat": 4,
 "nbformat_minor": 2
}
