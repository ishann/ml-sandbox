{
 "cells": [
  {
   "cell_type": "code",
   "execution_count": 1,
   "metadata": {},
   "outputs": [],
   "source": [
    "from src import initialize\n",
    "from src import ingest\n",
    "from src import embed\n",
    "from src import bot\n",
    "\n",
    "# If PDF has more than TOKEN_THRESH tokens, we only work with \n",
    "# the first TEXT_THRESH PyPDFLoader Document chunks.\n",
    "TOKEN_THRESH = 1000 \n",
    "TEXT_THRESH = 100\n",
    "\n",
    "PDF_PATH = \"../data/pdf/NSE-annual-report-2022.pdf\""
   ]
  },
  {
   "cell_type": "markdown",
   "metadata": {},
   "source": [
    "#### Get API keys."
   ]
  },
  {
   "cell_type": "code",
   "execution_count": 2,
   "metadata": {},
   "outputs": [],
   "source": [
    "OPENAI_API_KEY = initialize.init()"
   ]
  },
  {
   "cell_type": "markdown",
   "metadata": {},
   "source": [
    "#### Extract data from PDF.\n",
    "Analyze PDF length in terms of number of tokens.    \n",
    "Shorten if the number of tokens is too high."
   ]
  },
  {
   "cell_type": "code",
   "execution_count": 3,
   "metadata": {},
   "outputs": [
    {
     "name": "stdout",
     "output_type": "stream",
     "text": [
      "Too many tokens in raw text. Shortening...\n"
     ]
    }
   ],
   "source": [
    "texts = ingest.ingest(PDF_PATH, TOKEN_THRESH, TEXT_THRESH)"
   ]
  },
  {
   "cell_type": "markdown",
   "metadata": {},
   "source": [
    "#### Initialize a VectorDB instance and embed texts into it."
   ]
  },
  {
   "cell_type": "code",
   "execution_count": 4,
   "metadata": {},
   "outputs": [],
   "source": [
    "vectordb = embed.embed(texts, OPENAI_API_KEY)"
   ]
  },
  {
   "cell_type": "markdown",
   "metadata": {},
   "source": [
    "#### Initialize the doc-talk bot.\n",
    "`TODOS`:\n",
    "1. Consider [Conversational Retrieval QA chains](https://python.langchain.com/docs/modules/chains/popular/chat_vector_db) \n",
    "2. Consider [Map Reduce document chain type](https://python.langchain.com/docs/modules/chains/document/map_reduce) instead of ''stuff''."
   ]
  },
  {
   "cell_type": "code",
   "execution_count": 5,
   "metadata": {},
   "outputs": [],
   "source": [
    "bot = bot.init_bot(vectordb, OPENAI_API_KEY)"
   ]
  },
  {
   "cell_type": "markdown",
   "metadata": {},
   "source": [
    "#### Ask questions!"
   ]
  },
  {
   "cell_type": "code",
   "execution_count": 7,
   "metadata": {},
   "outputs": [
    {
     "data": {
      "text/plain": [
       "' NSE maintained its leadership position in domestic markets with a 93% market share in the Capital Market segment and near-100% share in the Equity Derivatives segment. Market share in the Currency Options segment moved up nearly eight points higher to 95%, while that in the Currency Futures segment remained robust at 70% in FY 2021-22. The Indian benchmark NIFTY 50 Index rose 19% in FY 2021-22. Passive investment avenues have also grown.'"
      ]
     },
     "execution_count": 7,
     "metadata": {},
     "output_type": "execute_result"
    }
   ],
   "source": [
    "query = \"How did the year 2022 go for NSE?\"\n",
    "bot.run(query)"
   ]
  },
  {
   "cell_type": "code",
   "execution_count": 8,
   "metadata": {},
   "outputs": [
    {
     "data": {
      "text/plain": [
       "' NSE had a strong performance in FY 2021-22, with the benchmark Nifty 50 Index ending the year 19% higher than the previous year and average daily turnover in equity cash and derivative markets (premium) rising by ~8% and 20% respectively. Total Assets under Management of domestic ETFs (equity and debt) and index funds linked to Nifty indices grew by strong 58%.'"
      ]
     },
     "execution_count": 8,
     "metadata": {},
     "output_type": "execute_result"
    }
   ],
   "source": [
    "query = \"Compared to 2021, how did the year 2022 go for NSE?\"\n",
    "bot.run(query)"
   ]
  },
  {
   "cell_type": "code",
   "execution_count": 9,
   "metadata": {},
   "outputs": [
    {
     "data": {
      "text/plain": [
       "' It depends on your individual risk tolerance and objectives. There are a variety of investments available, such as corporate bonds, government securities, commercial paper, convertible and non-convertible debt instruments, equity shares, exchange traded funds, mutual funds, sovereign gold bond, treasury bills, state development loan, and derivatives such as index derivatives, single stock derivatives, currency derivatives, interest rate derivatives, and commodity derivatives. You should speak to a financial advisor to determine the best investment for you.'"
      ]
     },
     "execution_count": 9,
     "metadata": {},
     "output_type": "execute_result"
    }
   ],
   "source": [
    "query = \"What financial instrument should I invest in if I'm a risk taker?\"\n",
    "bot.run(query)"
   ]
  }
 ],
 "metadata": {
  "kernelspec": {
   "display_name": "langchain",
   "language": "python",
   "name": "python3"
  },
  "language_info": {
   "codemirror_mode": {
    "name": "ipython",
    "version": 3
   },
   "file_extension": ".py",
   "mimetype": "text/x-python",
   "name": "python",
   "nbconvert_exporter": "python",
   "pygments_lexer": "ipython3",
   "version": "3.11.4"
  },
  "orig_nbformat": 4
 },
 "nbformat": 4,
 "nbformat_minor": 2
}
