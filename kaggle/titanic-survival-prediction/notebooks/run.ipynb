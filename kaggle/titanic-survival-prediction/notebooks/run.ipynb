{
 "cells": [
  {
   "attachments": {},
   "cell_type": "markdown",
   "metadata": {},
   "source": [
    "### Import packages."
   ]
  },
  {
   "cell_type": "code",
   "execution_count": null,
   "metadata": {
    "_cell_guid": "79c7e3d0-c299-4dcb-8224-4455121ee9b0",
    "_kg_hide-input": false,
    "_uuid": "d629ff2d2480ee46fbb7e2d37f6b5fab8052498a"
   },
   "outputs": [],
   "source": [
    "import pandas as pd\n",
    "\n",
    "from src.eda import eda_utils\n",
    "from src.features import engineer_feats\n",
    "\n",
    "import matplotlib.pyplot as plt\n",
    "import seaborn as sns\n",
    "sns.set()\n",
    "%matplotlib inline\n",
    "\n",
    "import warnings\n",
    "warnings.filterwarnings('ignore')"
   ]
  },
  {
   "attachments": {},
   "cell_type": "markdown",
   "metadata": {},
   "source": [
    "### Read in data."
   ]
  },
  {
   "cell_type": "code",
   "execution_count": null,
   "metadata": {
    "_kg_hide-input": false,
    "_uuid": "467443fda7135a8ce89c4d537da3f3a8546e2384"
   },
   "outputs": [],
   "source": [
    "df_trn = pd.read_csv('../data/raw/train.csv')\n",
    "df_tst = pd.read_csv('../data/raw/test.csv')\n",
    "\n",
    "print('Number of trn samples: {}'.format(len(df_trn)))\n",
    "print('Number of tst samples: {}'.format(len(df_tst)))"
   ]
  },
  {
   "attachments": {},
   "cell_type": "markdown",
   "metadata": {
    "_uuid": "dfabd70ff1cbd50e3107727e5bb630aa59110d83"
   },
   "source": [
    "## 1. Exploratory Data Analysis\n",
    "| *Variable*    | *Definition*          | *Key*                   | *Data Type* |\n",
    "| -----------   | --------------------- | ----------------------- | ----------- |\n",
    "| PassengerId   | Unique identifier     |                         | `int`       |\n",
    "| Pclass        | Ticket class          | 1: 1st, 2:2nd, 3:3rd    | `int`       |\n",
    "| Name          | Name                  |                         | `str`       |\n",
    "| Sex           | Sex                   |                         | `str`       |\n",
    "| Age           | Age in years          |                         | `float`     |\n",
    "| SibSp         | # siblings / spouses  |                         | `int`       |\n",
    "| Parch         | # parents / children  |                         | `int`       |\n",
    "| Ticket        | Ticket number\t        |                         | `int`       |\n",
    "| Fare          | Passenger fare\t    |                         | `float`     |\n",
    "| Cabin         | Cabin number\t        |                         | `str`       |\n",
    "| Embarked      | Port of Embarkation   | C, Q, S: 3 unique ports | `str`       |\n",
    "| Survived      | Survival              | 0 = No, 1 = Yes         | `bin`       |"
   ]
  },
  {
   "cell_type": "code",
   "execution_count": null,
   "metadata": {},
   "outputs": [],
   "source": [
    "df_trn.info(null_counts=True)"
   ]
  },
  {
   "cell_type": "code",
   "execution_count": null,
   "metadata": {},
   "outputs": [],
   "source": [
    "df_trn.describe()"
   ]
  },
  {
   "cell_type": "code",
   "execution_count": null,
   "metadata": {},
   "outputs": [],
   "source": [
    "\n",
    "# If the profile does not render here in the notebook,\n",
    "# the HTML report is saved in ~/reports/.\n",
    "\"\"\"\n",
    "eda_utils.pandas_profile(df_trn,\n",
    "                         title=\"Profiling Titanic Dataset\",\n",
    "                         output_file=\"../reports/profile_titanic.html\")\n",
    "\"\"\""
   ]
  },
  {
   "cell_type": "code",
   "execution_count": null,
   "metadata": {},
   "outputs": [],
   "source": [
    "\"\"\"\n",
    "eda_utils.generate_pps(df_trn,\n",
    "                       target=\"Survived\")\n",
    "\"\"\""
   ]
  },
  {
   "cell_type": "code",
   "execution_count": null,
   "metadata": {},
   "outputs": [],
   "source": [
    "\"\"\"\n",
    "eda_utils.autovisualize(df_trn, target=\"Survived\")\n",
    "\"\"\""
   ]
  },
  {
   "attachments": {},
   "cell_type": "markdown",
   "metadata": {},
   "source": [
    "## 2. Feature Engineering"
   ]
  },
  {
   "cell_type": "markdown",
   "metadata": {},
   "source": [
    "#### Data type conversion.\n",
    "Replace string feature values with numeric values."
   ]
  },
  {
   "cell_type": "code",
   "execution_count": null,
   "metadata": {},
   "outputs": [],
   "source": [
    "df_trn = engineer_feats.str_to_numeric(df_trn)\n",
    "df_tst = engineer_feats.str_to_numeric(df_tst)"
   ]
  },
  {
   "cell_type": "markdown",
   "metadata": {},
   "source": [
    "#### Data Imputation: Age (both trn and tst)"
   ]
  },
  {
   "cell_type": "code",
   "execution_count": null,
   "metadata": {},
   "outputs": [],
   "source": [
    "df_trn, df_tst = engineer_feats.impute_age(df_trn, df_tst)"
   ]
  },
  {
   "cell_type": "markdown",
   "metadata": {},
   "source": [
    "#### Data Imputation: Cabin (both trn and tst)"
   ]
  },
  {
   "cell_type": "markdown",
   "metadata": {},
   "source": [
    "Cabin is quite highly correlated with `Survived`, so we cannot drop it despite the high frequency of missing values. We will impute the missing values after finding the most significantly correlated feature(s)."
   ]
  },
  {
   "cell_type": "code",
   "execution_count": null,
   "metadata": {},
   "outputs": [],
   "source": [
    "df_trn, df_tst = engineer_feats.impute_cabin(df_trn, df_tst)"
   ]
  },
  {
   "cell_type": "markdown",
   "metadata": {},
   "source": [
    "#### Data Imputation: Embarked (trn)\n",
    "\n",
    "Only 2 missing in `df_trn`. None missing in `df_tst`."
   ]
  },
  {
   "cell_type": "code",
   "execution_count": null,
   "metadata": {},
   "outputs": [],
   "source": [
    "df_trn = engineer_feats.impute_embarked(df_trn)"
   ]
  },
  {
   "cell_type": "markdown",
   "metadata": {},
   "source": [
    "#### Data Imputation: Fare (tst)\n",
    "Only df_tst has missing value(s).    \n",
    "df_trn has been passed in because all statistics must be computed on (only) the training distribution."
   ]
  },
  {
   "cell_type": "code",
   "execution_count": null,
   "metadata": {},
   "outputs": [],
   "source": [
    "df_tst = engineer_feats.impute_fare(df_trn, df_tst)"
   ]
  },
  {
   "cell_type": "markdown",
   "metadata": {},
   "source": [
    "## 3. Manifold Visualization"
   ]
  },
  {
   "cell_type": "markdown",
   "metadata": {},
   "source": [
    "### 3.1 PCA"
   ]
  },
  {
   "cell_type": "code",
   "execution_count": null,
   "metadata": {},
   "outputs": [],
   "source": [
    "eda_utils.pca(df_trn)"
   ]
  },
  {
   "cell_type": "markdown",
   "metadata": {},
   "source": [
    "### 3.2 t-SNE"
   ]
  },
  {
   "cell_type": "code",
   "execution_count": null,
   "metadata": {},
   "outputs": [],
   "source": [
    "eda_utils.tsne(df_trn)"
   ]
  },
  {
   "cell_type": "markdown",
   "metadata": {},
   "source": [
    "## 4. Learning Baselines "
   ]
  },
  {
   "cell_type": "markdown",
   "metadata": {},
   "source": [
    "``Break this out into a preprocessing function.``"
   ]
  },
  {
   "cell_type": "code",
   "execution_count": null,
   "metadata": {},
   "outputs": [],
   "source": [
    "from sklearn.model_selection import train_test_split\n",
    "\n",
    "# Drop \"Name\" and \"Ticket\".\n",
    "df_trn = df_trn.drop([\"Name\", \"Ticket\"], axis=1)\n",
    "df_tst = df_tst.drop([\"Name\", \"Ticket\"], axis=1)\n",
    "\n",
    "trn_X, trn_Y = df_trn.drop([\"Survived\"], axis=1), df_trn[\"Survived\"]\n",
    "\n",
    "trn_X, val_X, trn_Y, val_Y = train_test_split(trn_X, trn_Y,\n",
    "                                              test_size=0.20,\n",
    "                                              random_state=42)\n",
    "\n",
    "trn_X, trn_Y = trn_X.to_numpy(), trn_Y.to_numpy()\n",
    "val_X, val_Y = val_X.to_numpy(), val_Y.to_numpy()"
   ]
  },
  {
   "cell_type": "markdown",
   "metadata": {},
   "source": [
    "``Break this out into a baseline function.``"
   ]
  },
  {
   "cell_type": "code",
   "execution_count": null,
   "metadata": {},
   "outputs": [],
   "source": [
    "from lazypredict.Supervised import LazyClassifier\n",
    "clf = LazyClassifier(verbose=0,ignore_warnings=True, custom_metric=None)\n",
    "models,predictions = clf.fit(trn_X, val_X, trn_Y, val_Y)\n",
    "\n",
    "print(models)"
   ]
  }
 ],
 "metadata": {
  "kernelspec": {
   "display_name": "Python 3",
   "language": "python",
   "name": "python3"
  },
  "language_info": {
   "codemirror_mode": {
    "name": "ipython",
    "version": 3
   },
   "file_extension": ".py",
   "mimetype": "text/x-python",
   "name": "python",
   "nbconvert_exporter": "python",
   "pygments_lexer": "ipython3",
   "version": "3.9.17"
  }
 },
 "nbformat": 4,
 "nbformat_minor": 1
}
